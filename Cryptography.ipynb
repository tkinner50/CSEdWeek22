{
 "cells": [
  {
   "attachments": {
    "alphabet_number_mapping-2372216143.png": {
     "image/png": "[encoded data removed]"
    }
   },
   "cell_type": "markdown",
   "id": "f14780f1",
   "metadata": {},
   "source": [
    "# Cryptography\n",
    "\n",
    "## What is cryptography? \n",
    "\n",
    "Cryptography is the art and science of securing information through the use of ciphers to change plain text information into cipher text information. Good ciphers are difficult to \"crack\" and prevent individuals who are not supposed to read, hear, or see information from doing so. \n",
    "\n",
    "Take for example the Caeser cipher, which is one of the earliest recorded ciphers in human history. The Caeser cipher is a *shift* cipher, meaning it shifts the position of a character in a plain text message. Let's examine the example below: \n",
    "\n",
    "**plain text: cat**\n",
    "**shift: 8**\n",
    "**cipher text: kib**\n",
    "\n",
    "*How did we get the word **kib** from **cat**?\n",
    "\n",
    "Think about the fact that **c** is the 3rd letter in the alphabet. If we add our shift value to three, we get 11. \n",
    "\n",
    "**General Example**\n",
    "\n",
    "plain text<sub>position in alphabet</sub> + shift value = cipher text<sub>position in alphabet</sub>\n",
    "\n",
    "**Specific Example**\n",
    "\n",
    "8 + 3 = 11\n",
    "\n",
    "____\n",
    "\n",
    "\n",
    "![alphabet_number_mapping-2372216143.png](attachment:alphabet_number_mapping-2372216143.png)"
   ]
  },
  {
   "cell_type": "markdown",
   "id": "32a11c8c",
   "metadata": {},
   "source": [
    "## Cryptography and Computers\n",
    "\n",
    "Let's imagine we want to pass a message to friend, but we don't want anyone else to be able to read and understand it. This would take a <i>long</i> time to do by hand. Let's practice using Python to help us to do this more quickly. Although this is very different than how WhatsApp or iMessage encrypt our messages, the practice of using numbers and math to make our messages unreadable by anyone other than who we sent the message to is the same core practice across our activities today and your own cell phones!"
   ]
  },
  {
   "cell_type": "markdown",
   "id": "21889b5c",
   "metadata": {},
   "source": [
    "**Shift Cipher using Python**"
   ]
  },
  {
   "cell_type": "code",
   "execution_count": null,
   "id": "5e26539b",
   "metadata": {},
   "outputs": [],
   "source": [
    "msg = input(\"Type your message here: \") ##Input the plain text message as a string\n",
    "\n",
    "shift = int(input(\"Enter your shift key here: \")) ##Input the shift key as a string, use int function to convert string to integer\n",
    "\n",
    "output = \"\" ##Declare the variable output as an empty string\n",
    "\n",
    "for l in msg: ##Iterate through all the characters in the plain text message\n",
    "  c = ord(l) + shift ##Calculate a value for each character equal to its numerical Unicode value plus the \n",
    "  output += (chr(c)) ##Append the character of the resulting Unicode value from the above step to the output string\n",
    "\n",
    "print(output) ##Print the output string"
   ]
  },
  {
   "cell_type": "markdown",
   "id": "e7fca2f4",
   "metadata": {},
   "source": [
    "## What do you notice? \n",
    "## Did you expect the answer that you received? \n",
    "\n",
    "Many times when we code, we are trying to solve a problem -- but simply coding the way in which we would solve the problem by hand is not <i>always</i> the best way to solve the problem. \n",
    "\n",
    "Here we called the native Python function **ord** (Line 5). This function returns the Unicode value of the input character. In the same line the function is called, we applied the shift value we declared in Line 2. We use the variable <b>c</b> to pass the calculated Unicode value of the original character plus the shift to Line 6. \n",
    "\n",
    "In Line 6, we append the new Unicode character corresponding to the value of the variable <b>c</b> to the variable <b>output</b>. \n",
    "\n",
    "In Line 7, we print the value of the variable <b>output</b>\n",
    "\n",
    "**What is Unicode?**\n",
    "\n",
    "Unicode is a set of numerical values that correspond to the actual characters typed and read by computer users. This includes letters, punctuation, and special characters. \n",
    "\n",
    "**Why would we code the Caeser cipher this way?**\n",
    "1) Using the built-in function and the established values for Unicode is faster than iterating through a second list that would require us to link each value of the English alphabet to its corresponding ordinal position (a = 1, b = 2, etc.)\n",
    "\n",
    "2) This method allows us to handle special characters, such as punctuation, as well as non-English characters such as ñ. \n",
    "\n",
    "**What other things could we do?**\n",
    "1) The traditional Caeser cipher adds the shift value -- how could we change our code to subtract the shift value instead?\n",
    "\n",
    "2) What other math operations could we use?\n",
    "\n",
    "<b> In the code block below, try applying your own mathematical formula in Line 5 to come up with a unique shift cipher</b>"
   ]
  },
  {
   "cell_type": "code",
   "execution_count": null,
   "id": "033f8449",
   "metadata": {},
   "outputs": [],
   "source": [
    "msg = input(\"Type your message here:\")\n",
    "shift = int(input(\"Enter your shift key here:\"))\n",
    "output = \"\"\n",
    "for l in msg:\n",
    "    c = ord(l)\n",
    "    output += (chr(c))\n",
    "print(output)"
   ]
  },
  {
   "cell_type": "markdown",
   "id": "ff61a183",
   "metadata": {},
   "source": [
    "## Encryption\n",
    "\n",
    "As you can imagine, using <i>just</i> ciphers has its flaws. They are relatively easy for computers to \"crack\" by bruteforcing calculations. Encryption is the standard for secure information storage and retrieval, and the transmission of information via communications. \n",
    "\n",
    "In encryption, both the sender and the reader have a set of keys that are used to encrypt and decrypt the information. These keys and their application are mathematical in nature; that means we are applying a mathematical function to take the plaint text message and encrypt it. The decryption operation can be thought of as an inverse operation, taking the encrypted message and converting it into plain text. \n",
    "\n",
    "Industrial encryption standards rely on modular arithmetic and eliptic curves to generate the keys and perform the mathematical operations. Here, we are going to take a simpler approach using a fundamental property of mathematics: **the commutative property**."
   ]
  },
  {
   "cell_type": "code",
   "execution_count": null,
   "id": "e1c4a29f",
   "metadata": {},
   "outputs": [],
   "source": [
    "import numpy as np ##Import the numpy library, which we are using to help do the array-based mathematics in this code block\n",
    "\n",
    "message = input(\"Type your message here: \") ##Input the plain text message as a string\n",
    "bobs_encryption_key = float(input(\"Type Bob's encryption key here: \")) ##Input the encryption key as a string, convert to a floating point d\n",
    "message_list = list() ##Initialize an empty list\n",
    "for l in message: ##iterate through each letter\n",
    "  message_list.append(ord(l)) ##determine the unicode of each letter and append to the list\n",
    "\n",
    "message_array = np.array(message_list) ##form a 1 dimensional array from the list\n",
    "\n",
    "## We don't need the steps in Lines 12, 13, or 14, but they are useful to see what is happening\n",
    "print(\"Here's a status update:  \")\n",
    "print(\"The original unencrypted message in Unicode values is: \", message_list) \n",
    "print(\"Confirming the message from the list of Unicode values is the same message in the array of Unicode values: \", message_array)\n",
    "\n",
    "## The first round of encryption for passing the message to Sue\n",
    "## Note that ** is exponential (\"Bob's encryption key raised to the power of the value in the array\")\n",
    "## The line of code below takes Bob's key, raises it to the power of a value in the array, msgarray, and places it in a new array\n",
    "message_array_1st_encryption = np.array(bobs_encryption_key * message_array)\n",
    "\n",
    "## Again, not necessary but useful to see what is happening\n",
    "print(\"Bob's encrypted array is now: \", message_array_1st_encryption, \"He passes the encrypted array to Alice\")\n",
    "\n",
    "##Alice receives the encrypted array and encrypts again by multiplying every element in Bob's encrypted message array by her encryption key\n",
    "alices_encryption_key = float(input(\"Type Alice's encryption key here: \"))\n",
    "message_array_2nd_encryption = np.array(message_array_1st_encryption * alices_encryption_key)\n",
    "\n",
    "##Status check printed to console\n",
    "print(\"Alice encrypts the array using her key and sends the now doubly-encrypted array back to Bob: \", message_array_2nd_encryption)\n",
    "\n",
    "##Bob receives the array and partially decrypts by applying the inverse operation of multiplication and dividing by his encryption key\n",
    "message_array_1st_decryption = message_array_2nd_encryption/bobs_encryption_key\n",
    "\n",
    "##Status check printed to console\n",
    "print(\"Bob decrypts the message using his key, leaving a message that is still encrypted by Alice's key. He passes this information back to Alice: \", message_array_1st_decryption)\n",
    "\n",
    "##Alice receive the partially decrypted array and fully decrypts to the original Unicode values by dividing by her encryption key\n",
    "message_array_2nd_decryption = message_array_1st_decryption/alices_encryption_key\n",
    "\n",
    "##Status check printed to console\n",
    "print(\"Alice unencrypts the message to yield the original Unicode values in an array form: \", message_array_2nd_decryption)"
   ]
  },
  {
   "cell_type": "markdown",
   "id": "97038c59",
   "metadata": {},
   "source": [
    "## What do you notice about the above code block?\n",
    "\n",
    "Perhaps you noticed the following: \n",
    "\n",
    "1) The use of a list and array. Both of these are types of containers in Python that we can use to store data, which we can then manipulate using functions, such as the mathematical functions used here. The differences between lists and arrays are beyond what we can talk about today, but it is useful to know that we selected arrays as they are often easier to use in mathematical manipulations of data. \n",
    "\n",
    "2) There are still elements we could incorporate:\n",
    "    \n",
    "- Notice that Alice's final unencrypted message is still in Unicode. While she could certainly use pen-and-paper to decode the message, <i>could you code a way for the message to automatically be converted back into a string?</i>\n",
    "\n",
    "\n",
    "- This is an educational model of three-pass encryption protocols using the print console in this Python notebook. Imagine you wanted to take this code and create a way to pass real encrypted messages back-and-forth with your friends via email: \n",
    "\n",
    "<i><b>Think about the strength of your encryption</b></i> \n",
    "\n",
    "- In this example, we used multiplication and division. As they are inverse operations of each other, the commutative property of mathematics ensures that we get the original message back out that we put in. But these operations are computationally easy, and could even likely be deduced with pen and paper and basic knowledge of Unicode. \n",
    "\n",
    "\n",
    "- Could you think of mathematical operations that you know that could be used as inverse operations that are more complex than simple multiplication and division? Practice writing out your code logic as <i> pseudocode</i>, and then research more about how to use math operators in Python to rewrite the codeblock below with more complex operators"
   ]
  },
  {
   "cell_type": "code",
   "execution_count": null,
   "id": "1d684149",
   "metadata": {},
   "outputs": [],
   "source": [
    "import numpy as np ##Import the numpy library, which we are using to help do the array-based mathematics in this code block\n",
    "\n",
    "message = input(\"Type your message here: \") ##Input the plain text message as a string\n",
    "bobs_encryption_key = float(input(\"Type Bob's encryption key here: \")) ##Input the encryption key as a string, convert to a floating point d\n",
    "message_list = list() ##Initialize an empty list\n",
    "for l in message: ##iterate through each letter\n",
    "  message_list.append(ord(l)) ##determine the unicode of each letter and append to the list\n",
    "\n",
    "message_array = np.array(message_list) ##form a 1 dimensional array from the list\n",
    "\n",
    "## We don't need the steps in Lines 12, 13, or 14, but they are useful to see what is happening\n",
    "print(\"Here's a status update:  \")\n",
    "print(\"The original unencrypted message in Unicode values is: \", message_list) \n",
    "print(\"Confirming the message from the list of Unicode values is the same message in the array of Unicode values: \", message_array)\n",
    "\n",
    "## The first round of encryption for passing the message to Sue\n",
    "## Note that ** is exponential (\"Bob's encryption key raised to the power of the value in the array\")\n",
    "## The line of code below takes Bob's key, raises it to the power of a value in the array, msgarray, and places it in a new array\n",
    "message_array_1st_encryption = np.array(bobs_encryption_key * message_array)\n",
    "\n",
    "## Again, not necessary but useful to see what is happening\n",
    "print(\"Bob's encrypted array is now: \", message_array_1st_encryption, \"He passes the encrypted array to Alice\")\n",
    "\n",
    "##Alice receives the encrypted array and encrypts again by multiplying every element in Bob's encrypted message array by her encryption key\n",
    "alices_encryption_key = float(input(\"Type Alice's encryption key here: \"))\n",
    "message_array_2nd_encryption = np.array(message_array_1st_encryption * alices_encryption_key)\n",
    "\n",
    "##Status check printed to console\n",
    "print(\"Alice encrypts the array using her key and sends the now doubly-encrypted array back to Bob: \", message_array_2nd_encryption)\n",
    "\n",
    "##Bob receives the array and partially decrypts by applying the inverse operation of multiplication and dividing by his encryption key\n",
    "message_array_1st_decryption = message_array_2nd_encryption/bobs_encryption_key\n",
    "\n",
    "##Status check printed to console\n",
    "print(\"Bob decrypts the message using his key, leaving a message that is still encrypted by Alice's key. He passes this information back to Alice: \", message_array_1st_decryption)\n",
    "\n",
    "##Alice receive the partially decrypted array and fully decrypts to the original Unicode values by dividing by her encryption key\n",
    "message_array_2nd_decryption = message_array_1st_decryption/alices_encryption_key\n",
    "\n",
    "##Status check printed to console\n",
    "print(\"Alice unencrypts the message to yield the original Unicode values in an array form: \", message_array_2nd_decryption)"
   ]
  }
 ],
 "metadata": {
  "kernelspec": {
   "display_name": "Python 3.9.7 ('base')",
   "language": "python",
   "name": "python3"
  },
  "language_info": {
   "codemirror_mode": {
    "name": "ipython",
    "version": 3
   },
   "file_extension": ".py",
   "mimetype": "text/x-python",
   "name": "python",
   "nbconvert_exporter": "python",
   "pygments_lexer": "ipython3",
   "version": "3.9.7"
  },
  "vscode": {
   "interpreter": {
    "hash": "4976762a8710dbf0cab58cdbfe549d3586318e7e14a654aebe4817c49d3726a9"
   }
  }
 },
 "nbformat": 4,
 "nbformat_minor": 5
}
